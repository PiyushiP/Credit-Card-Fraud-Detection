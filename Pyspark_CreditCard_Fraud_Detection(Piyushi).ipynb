{
 "cells": [
  {
   "cell_type": "markdown",
   "metadata": {},
   "source": [
    "# **Pyspark for Credit Card Fraud Detection Project**"
   ]
  },
  {
   "cell_type": "markdown",
   "metadata": {},
   "source": [
    "### Tasks performed in this sheet\n",
    "\n",
    "* After the data is imported in HDFS we need to read the file and create Target dimension model in Pyspark\n",
    "* Environment variable set up and Initiating SparkSession and creating sparkContext\n",
    "* Custom Schema needs to be created to avoid any data type issues\n",
    "* Perform data analysis for the dataframes\n",
    "* Read the past transactions data into dataframe\n",
    "* Perform necessary joins and renaming of columns for readability\n",
    "* creating lookup_table and calculating transaction date and post code of last transaction\n",
    "* calculating UCL\n",
    "* loading this dataframe to NoSQL database\n"
   ]
  },
  {
   "cell_type": "markdown",
   "metadata": {},
   "source": [
    "*  Import system dependencies for CDH\n",
    "*  set spark context\n",
    "*  import necessary libraries"
   ]
  },
  {
   "cell_type": "code",
   "execution_count": 1,
   "metadata": {},
   "outputs": [],
   "source": [
    "import os\n",
    "import sys\n",
    "os.environ[\"PYSPARK_PYTHON\"] = \"/opt/cloudera/parcels/Anaconda/bin/python\"\n",
    "os.environ[\"JAVA_HOME\"] = \"/usr/java/jdk1.8.0_232-cloudera/jre\"\n",
    "os.environ[\"SPARK_HOME\"]=\"/opt/cloudera/parcels/SPARK2-2.3.0.cloudera2-1.cdh5.13.3.p0.316101/lib/spark2/\"\n",
    "os.environ[\"PYLIB\"] = os.environ[\"SPARK_HOME\"] + \"/python/lib\"\n",
    "sys.path.insert(0, os.environ[\"PYLIB\"] +\"/py4j-0.10.6-src.zip\")\n",
    "sys.path.insert(0, os.environ[\"PYLIB\"] +\"/pyspark.zip\")"
   ]
  },
  {
   "cell_type": "code",
   "execution_count": 2,
   "metadata": {},
   "outputs": [],
   "source": [
    "from pyspark.sql import SparkSession"
   ]
  },
  {
   "cell_type": "code",
   "execution_count": 3,
   "metadata": {},
   "outputs": [
    {
     "data": {
      "text/html": [
       "\n",
       "            <div>\n",
       "                <p><b>SparkSession - hive</b></p>\n",
       "                \n",
       "        <div>\n",
       "            <p><b>SparkContext</b></p>\n",
       "\n",
       "            <p><a href=\"http://ip-10-0-0-149.ec2.internal:4040\">Spark UI</a></p>\n",
       "\n",
       "            <dl>\n",
       "              <dt>Version</dt>\n",
       "                <dd><code>v2.3.0.cloudera2</code></dd>\n",
       "              <dt>Master</dt>\n",
       "                <dd><code>local</code></dd>\n",
       "              <dt>AppName</dt>\n",
       "                <dd><code>CreditCardTxn</code></dd>\n",
       "            </dl>\n",
       "        </div>\n",
       "        \n",
       "            </div>\n",
       "        "
      ],
      "text/plain": [
       "<pyspark.sql.session.SparkSession at 0x7f46043506d0>"
      ]
     },
     "execution_count": 3,
     "metadata": {},
     "output_type": "execute_result"
    }
   ],
   "source": [
    "spark = SparkSession.builder.appName('CreditCardTxn').master(\"local\").getOrCreate()\n",
    "spark"
   ]
  },
  {
   "cell_type": "code",
   "execution_count": 4,
   "metadata": {},
   "outputs": [],
   "source": [
    "sc = spark.sparkContext"
   ]
  },
  {
   "cell_type": "code",
   "execution_count": 5,
   "metadata": {},
   "outputs": [
    {
     "data": {
      "text/html": [
       "\n",
       "        <div>\n",
       "            <p><b>SparkContext</b></p>\n",
       "\n",
       "            <p><a href=\"http://ip-10-0-0-149.ec2.internal:4040\">Spark UI</a></p>\n",
       "\n",
       "            <dl>\n",
       "              <dt>Version</dt>\n",
       "                <dd><code>v2.3.0.cloudera2</code></dd>\n",
       "              <dt>Master</dt>\n",
       "                <dd><code>local</code></dd>\n",
       "              <dt>AppName</dt>\n",
       "                <dd><code>CreditCardTxn</code></dd>\n",
       "            </dl>\n",
       "        </div>\n",
       "        "
      ],
      "text/plain": [
       "<SparkContext master=local appName=CreditCardTxn>"
      ]
     },
     "execution_count": 5,
     "metadata": {},
     "output_type": "execute_result"
    }
   ],
   "source": [
    "sc"
   ]
  },
  {
   "cell_type": "code",
   "execution_count": 6,
   "metadata": {},
   "outputs": [],
   "source": [
    "#import libraries\n",
    "from pyspark.sql.types import StructType, StructField, IntegerType, StringType, BooleanType, DoubleType, LongType"
   ]
  },
  {
   "cell_type": "code",
   "execution_count": 7,
   "metadata": {},
   "outputs": [],
   "source": [
    "import pyspark.sql.functions as f"
   ]
  },
  {
   "cell_type": "code",
   "execution_count": 8,
   "metadata": {},
   "outputs": [],
   "source": [
    "from pyspark.sql.functions import *\n",
    "from pyspark.sql.functions import row_number, monotonically_increasing_id\n",
    "from pyspark.sql import Window\n",
    "from pyspark.sql import functions as sf"
   ]
  },
  {
   "cell_type": "markdown",
   "metadata": {},
   "source": [
    "* Defining Struct Types for each column based on Schema for card member details"
   ]
  },
  {
   "cell_type": "code",
   "execution_count": 9,
   "metadata": {},
   "outputs": [],
   "source": [
    "cardschema = StructType([StructField('card_id', StringType(),False),\n",
    "                        StructField('member_id', StringType(),False),\n",
    "                        StructField('member_joining_dt', StringType(),False),\n",
    "                        StructField('card_purchase_dt', StringType(),False),\n",
    "                        StructField('country', StringType(),False),\n",
    "                        StructField('city', StringType(),False), \n",
    "                        ])"
   ]
  },
  {
   "cell_type": "code",
   "execution_count": 11,
   "metadata": {},
   "outputs": [],
   "source": [
    "#read the data\n",
    "card_df = spark.read.csv(\"hdfs:/user/root/capstone_project/card_member\", header = False, schema = cardschema)"
   ]
  },
  {
   "cell_type": "code",
   "execution_count": 12,
   "metadata": {},
   "outputs": [
    {
     "data": {
      "text/plain": [
       "999"
      ]
     },
     "execution_count": 12,
     "metadata": {},
     "output_type": "execute_result"
    }
   ],
   "source": [
    "#count the records in card member\n",
    "card_df.count()  # 999 as expected"
   ]
  },
  {
   "cell_type": "code",
   "execution_count": 13,
   "metadata": {},
   "outputs": [
    {
     "name": "stdout",
     "output_type": "stream",
     "text": [
      "root\n",
      " |-- card_id: string (nullable = true)\n",
      " |-- member_id: string (nullable = true)\n",
      " |-- member_joining_dt: string (nullable = true)\n",
      " |-- card_purchase_dt: string (nullable = true)\n",
      " |-- country: string (nullable = true)\n",
      " |-- city: string (nullable = true)\n",
      "\n"
     ]
    }
   ],
   "source": [
    "card_df.printSchema()"
   ]
  },
  {
   "cell_type": "code",
   "execution_count": 14,
   "metadata": {},
   "outputs": [
    {
     "data": {
      "text/plain": [
       "['card_id',\n",
       " 'member_id',\n",
       " 'member_joining_dt',\n",
       " 'card_purchase_dt',\n",
       " 'country',\n",
       " 'city']"
      ]
     },
     "execution_count": 14,
     "metadata": {},
     "output_type": "execute_result"
    }
   ],
   "source": [
    "card_df.columns"
   ]
  },
  {
   "cell_type": "code",
   "execution_count": 15,
   "metadata": {},
   "outputs": [
    {
     "name": "stdout",
     "output_type": "stream",
     "text": [
      "+---------------+---------------+--------------------+----------------+-------------+-----------------+\n",
      "|        card_id|      member_id|   member_joining_dt|card_purchase_dt|      country|             city|\n",
      "+---------------+---------------+--------------------+----------------+-------------+-----------------+\n",
      "|340028465709212|009250698176266|2012-02-08 06:04:...|           05/13|United States|        Barberton|\n",
      "|340054675199675|835873341185231|2017-03-10 09:24:...|           03/17|United States|       Fort Dodge|\n",
      "|340082915339645|512969555857346|2014-02-15 06:30:...|           07/14|United States|           Graham|\n",
      "|340134186926007|887711945571282|2012-02-05 01:21:...|           02/13|United States|        Dix Hills|\n",
      "|340265728490548|680324265406190|2014-03-29 07:49:...|           11/14|United States| Rancho Cucamonga|\n",
      "|340268219434811|929799084911715|2012-07-08 02:46:...|           08/12|United States|    San Francisco|\n",
      "|340379737226464|089615510858348|2010-03-10 00:06:...|           09/10|United States|          Clinton|\n",
      "|340383645652108|181180599313885|2012-02-24 05:32:...|           10/16|United States|    West New York|\n",
      "|340803866934451|417664728506297|2015-05-21 04:30:...|           08/17|United States|        Beaverton|\n",
      "|340889618969736|459292914761635|2013-04-23 08:40:...|           11/15|United States|  West Palm Beach|\n",
      "|340924125838453|188119365574843|2011-04-12 04:28:...|           12/13|United States|      Scottsbluff|\n",
      "|341005627432127|872138964937565|2013-09-08 03:16:...|           02/17|United States|          Chillum|\n",
      "|341029651579925|974087224071871|2011-01-14 00:20:...|           08/12|United States|   Valley Station|\n",
      "|341311317050937|561687420200207|2014-03-18 06:23:...|           02/15|United States|        Vincennes|\n",
      "|341344252914274|695906467918552|2012-03-02 03:21:...|           03/13|United States|        Columbine|\n",
      "|341363858179050|009190444424572|2012-02-19 05:16:...|           04/14|United States|      Cheektowaga|\n",
      "|341519629171378|533670008048847|2013-05-13 07:59:...|           01/15|United States|       Centennial|\n",
      "|341641153427489|230523184584316|2013-03-25 08:51:...|           11/15|United States|       Colchester|\n",
      "|341719092861087|304847505155781|2015-12-06 08:06:...|           11/17|United States|     Vernon Hills|\n",
      "|341722035429601|979218131207765|2015-12-22 10:46:...|           01/17|United States|Elk Grove Village|\n",
      "+---------------+---------------+--------------------+----------------+-------------+-----------------+\n",
      "only showing top 20 rows\n",
      "\n"
     ]
    }
   ],
   "source": [
    "card_df.show()"
   ]
  },
  {
   "cell_type": "code",
   "execution_count": 16,
   "metadata": {},
   "outputs": [],
   "source": [
    "memberschema = StructType([StructField('member_id', StringType(),False),\n",
    "                        StructField('score', IntegerType(),False),\n",
    "                        ])"
   ]
  },
  {
   "cell_type": "code",
   "execution_count": 17,
   "metadata": {},
   "outputs": [],
   "source": [
    "#read the data\n",
    "mem_df = spark.read.csv(\"hdfs:/user/root/capstone_project/member_score\", header = False, schema = memberschema)"
   ]
  },
  {
   "cell_type": "code",
   "execution_count": 18,
   "metadata": {},
   "outputs": [
    {
     "data": {
      "text/plain": [
       "999"
      ]
     },
     "execution_count": 18,
     "metadata": {},
     "output_type": "execute_result"
    }
   ],
   "source": [
    "#count the records in member score\n",
    "mem_df.count() #as expected 999"
   ]
  },
  {
   "cell_type": "code",
   "execution_count": 19,
   "metadata": {},
   "outputs": [
    {
     "name": "stdout",
     "output_type": "stream",
     "text": [
      "+---------------+-----+\n",
      "|      member_id|score|\n",
      "+---------------+-----+\n",
      "|000037495066290|  339|\n",
      "|000117826301530|  289|\n",
      "|001147922084344|  393|\n",
      "|001314074991813|  225|\n",
      "|001739553947511|  642|\n",
      "|003761426295463|  413|\n",
      "|004494068832701|  217|\n",
      "|006836124210484|  504|\n",
      "|006991872634058|  697|\n",
      "|007955566230397|  372|\n",
      "|008732267588672|  213|\n",
      "|008765307152821|  399|\n",
      "|009136568025042|  308|\n",
      "|009190444424572|  559|\n",
      "|009250698176266|  233|\n",
      "|009873334520465|  298|\n",
      "|011716573646690|  249|\n",
      "|011877954983420|  497|\n",
      "|012390918683920|  407|\n",
      "|012731668664932|  612|\n",
      "+---------------+-----+\n",
      "only showing top 20 rows\n",
      "\n"
     ]
    }
   ],
   "source": [
    "mem_df.show()"
   ]
  },
  {
   "cell_type": "code",
   "execution_count": 20,
   "metadata": {},
   "outputs": [],
   "source": [
    "mem_df = mem_df.withColumnRenamed('member_id','mem_id')"
   ]
  },
  {
   "cell_type": "code",
   "execution_count": 21,
   "metadata": {},
   "outputs": [
    {
     "name": "stdout",
     "output_type": "stream",
     "text": [
      "root\n",
      " |-- mem_id: string (nullable = true)\n",
      " |-- score: integer (nullable = true)\n",
      "\n"
     ]
    }
   ],
   "source": [
    "mem_df.printSchema()"
   ]
  },
  {
   "cell_type": "code",
   "execution_count": 22,
   "metadata": {},
   "outputs": [
    {
     "data": {
      "text/plain": [
       "['mem_id', 'score']"
      ]
     },
     "execution_count": 22,
     "metadata": {},
     "output_type": "execute_result"
    }
   ],
   "source": [
    "mem_df.columns"
   ]
  },
  {
   "cell_type": "code",
   "execution_count": 23,
   "metadata": {},
   "outputs": [],
   "source": [
    "transasction = StructType([StructField('card_id', StringType(),False),\n",
    "                        StructField('member_id', StringType(),False),\n",
    "                        StructField('amount', IntegerType(),False), \n",
    "                        StructField('postcode', StringType(),False),\n",
    "                        StructField('pos_id', StringType(),False),\n",
    "                        StructField('transaction_dt', StringType(),False), \n",
    "                        StructField('status', StringType(),False), \n",
    "                        ])"
   ]
  },
  {
   "cell_type": "markdown",
   "metadata": {},
   "source": [
    "Reading Past Transactions data (source as csv)"
   ]
  },
  {
   "cell_type": "code",
   "execution_count": 25,
   "metadata": {},
   "outputs": [],
   "source": [
    "trans_df = spark.read.csv(\"hdfs:/user/root/capstone_project/card_transactions.csv\", header = True, schema = transasction)"
   ]
  },
  {
   "cell_type": "code",
   "execution_count": 26,
   "metadata": {},
   "outputs": [
    {
     "data": {
      "text/plain": [
       "53292"
      ]
     },
     "execution_count": 26,
     "metadata": {},
     "output_type": "execute_result"
    }
   ],
   "source": [
    "#check the record count\n",
    "trans_df.count()  #53292"
   ]
  },
  {
   "cell_type": "code",
   "execution_count": 27,
   "metadata": {},
   "outputs": [],
   "source": [
    "#Update to non-fraud transactions\n",
    "trans_df= trans_df.filter(trans_df.status!='FRAUD')"
   ]
  },
  {
   "cell_type": "code",
   "execution_count": 28,
   "metadata": {},
   "outputs": [
    {
     "data": {
      "text/plain": [
       "53210"
      ]
     },
     "execution_count": 28,
     "metadata": {},
     "output_type": "execute_result"
    }
   ],
   "source": [
    "trans_df.count()"
   ]
  },
  {
   "cell_type": "code",
   "execution_count": 29,
   "metadata": {},
   "outputs": [
    {
     "name": "stdout",
     "output_type": "stream",
     "text": [
      "+---------------+---------------+-------+--------+---------------+-------------------+-------+\n",
      "|        card_id|      member_id| amount|postcode|         pos_id|     transaction_dt| status|\n",
      "+---------------+---------------+-------+--------+---------------+-------------------+-------+\n",
      "|348702330256514|000037495066290|9084849|   33946|614677375609919|11-02-2018 00:00:00|GENUINE|\n",
      "|348702330256514|000037495066290| 330148|   33946|614677375609919|11-02-2018 00:00:00|GENUINE|\n",
      "|348702330256514|000037495066290| 136052|   33946|614677375609919|11-02-2018 00:00:00|GENUINE|\n",
      "|348702330256514|000037495066290|4310362|   33946|614677375609919|11-02-2018 00:00:00|GENUINE|\n",
      "|348702330256514|000037495066290|9097094|   33946|614677375609919|11-02-2018 00:00:00|GENUINE|\n",
      "|348702330256514|000037495066290|2291118|   33946|614677375609919|11-02-2018 00:00:00|GENUINE|\n",
      "|348702330256514|000037495066290|4900011|   33946|614677375609919|11-02-2018 00:00:00|GENUINE|\n",
      "|348702330256514|000037495066290| 633447|   33946|614677375609919|11-02-2018 00:00:00|GENUINE|\n",
      "|348702330256514|000037495066290|6259303|   33946|614677375609919|11-02-2018 00:00:00|GENUINE|\n",
      "|348702330256514|000037495066290| 369067|   33946|614677375609919|11-02-2018 00:00:00|GENUINE|\n",
      "|348702330256514|000037495066290|1193207|   33946|614677375609919|11-02-2018 00:00:00|GENUINE|\n",
      "|348702330256514|000037495066290|9335696|   33946|614677375609919|11-02-2018 00:00:00|GENUINE|\n",
      "|348702330256514|000037495066290|2241736|   33946|614677375609919|11-02-2018 00:00:00|GENUINE|\n",
      "|348702330256514|000037495066290| 457701|   33946|614677375609919|11-02-2018 00:00:00|GENUINE|\n",
      "|348702330256514|000037495066290|7176668|   33946|614677375609919|11-02-2018 00:00:00|GENUINE|\n",
      "|348702330256514|000037495066290|5585098|   33946|614677375609919|11-02-2018 00:00:00|GENUINE|\n",
      "|348702330256514|000037495066290|7918756|   33946|614677375609919|11-02-2018 00:00:00|GENUINE|\n",
      "|348702330256514|000037495066290|1611089|   33946|614677375609919|11-02-2018 00:00:00|GENUINE|\n",
      "|348702330256514|000037495066290| 217221|   33946|614677375609919|11-02-2018 00:00:00|GENUINE|\n",
      "|348702330256514|000037495066290|2617991|   33946|614677375609919|11-02-2018 00:00:00|GENUINE|\n",
      "+---------------+---------------+-------+--------+---------------+-------------------+-------+\n",
      "only showing top 20 rows\n",
      "\n"
     ]
    }
   ],
   "source": [
    "trans_df.show()"
   ]
  },
  {
   "cell_type": "code",
   "execution_count": 30,
   "metadata": {},
   "outputs": [],
   "source": [
    "score = mem_df.join(card_df, mem_df.mem_id == card_df.member_id,how='LEFT') "
   ]
  },
  {
   "cell_type": "code",
   "execution_count": 31,
   "metadata": {},
   "outputs": [
    {
     "data": {
      "text/plain": [
       "999"
      ]
     },
     "execution_count": 31,
     "metadata": {},
     "output_type": "execute_result"
    }
   ],
   "source": [
    "score.count()"
   ]
  },
  {
   "cell_type": "code",
   "execution_count": 32,
   "metadata": {},
   "outputs": [
    {
     "name": "stdout",
     "output_type": "stream",
     "text": [
      "root\n",
      " |-- mem_id: string (nullable = true)\n",
      " |-- score: integer (nullable = true)\n",
      " |-- card_id: string (nullable = true)\n",
      " |-- member_id: string (nullable = true)\n",
      " |-- member_joining_dt: string (nullable = true)\n",
      " |-- card_purchase_dt: string (nullable = true)\n",
      " |-- country: string (nullable = true)\n",
      " |-- city: string (nullable = true)\n",
      "\n"
     ]
    }
   ],
   "source": [
    "score.printSchema()"
   ]
  },
  {
   "cell_type": "code",
   "execution_count": 33,
   "metadata": {},
   "outputs": [],
   "source": [
    "score = score.select('mem_id', 'score', 'card_id')  #selecting required columns"
   ]
  },
  {
   "cell_type": "code",
   "execution_count": 34,
   "metadata": {},
   "outputs": [
    {
     "name": "stdout",
     "output_type": "stream",
     "text": [
      "+---------------+-----+----------------+\n",
      "|         mem_id|score|         card_id|\n",
      "+---------------+-----+----------------+\n",
      "|000037495066290|  339| 348702330256514|\n",
      "|000117826301530|  289|5189563368503974|\n",
      "|001147922084344|  393|5407073344486464|\n",
      "|001314074991813|  225| 378303738095292|\n",
      "|001739553947511|  642| 348413196172048|\n",
      "|003761426295463|  413| 348536585266345|\n",
      "|004494068832701|  217|5515987071565183|\n",
      "|006836124210484|  504|5400251558458125|\n",
      "|006991872634058|  697|4573337022888445|\n",
      "|007955566230397|  372|4708912758619517|\n",
      "|008732267588672|  213|5342400571435088|\n",
      "|008765307152821|  399|4237648081700588|\n",
      "|009136568025042|  308| 371814781663843|\n",
      "|009190444424572|  559| 341363858179050|\n",
      "|009250698176266|  233| 340028465709212|\n",
      "|009873334520465|  298|5495445301620991|\n",
      "|011716573646690|  249|4795844193055110|\n",
      "|011877954983420|  497|5164771396791995|\n",
      "|012390918683920|  407|5423921058459194|\n",
      "|012731668664932|  612|5379610024035907|\n",
      "+---------------+-----+----------------+\n",
      "only showing top 20 rows\n",
      "\n"
     ]
    }
   ],
   "source": [
    "score.show()"
   ]
  },
  {
   "cell_type": "code",
   "execution_count": 35,
   "metadata": {},
   "outputs": [],
   "source": [
    "mem_df = mem_df.withColumnRenamed('mem_id','member_id')"
   ]
  },
  {
   "cell_type": "code",
   "execution_count": 36,
   "metadata": {},
   "outputs": [
    {
     "name": "stdout",
     "output_type": "stream",
     "text": [
      "+---------------+-----+\n",
      "|      member_id|score|\n",
      "+---------------+-----+\n",
      "|000037495066290|  339|\n",
      "|000117826301530|  289|\n",
      "|001147922084344|  393|\n",
      "|001314074991813|  225|\n",
      "|001739553947511|  642|\n",
      "|003761426295463|  413|\n",
      "|004494068832701|  217|\n",
      "|006836124210484|  504|\n",
      "|006991872634058|  697|\n",
      "|007955566230397|  372|\n",
      "|008732267588672|  213|\n",
      "|008765307152821|  399|\n",
      "|009136568025042|  308|\n",
      "|009190444424572|  559|\n",
      "|009250698176266|  233|\n",
      "|009873334520465|  298|\n",
      "|011716573646690|  249|\n",
      "|011877954983420|  497|\n",
      "|012390918683920|  407|\n",
      "|012731668664932|  612|\n",
      "+---------------+-----+\n",
      "only showing top 20 rows\n",
      "\n"
     ]
    }
   ],
   "source": [
    "mem_df.show()"
   ]
  },
  {
   "cell_type": "code",
   "execution_count": 37,
   "metadata": {},
   "outputs": [
    {
     "data": {
      "text/plain": [
       "999"
      ]
     },
     "execution_count": 37,
     "metadata": {},
     "output_type": "execute_result"
    }
   ],
   "source": [
    "mem_df.count()"
   ]
  },
  {
   "cell_type": "code",
   "execution_count": 38,
   "metadata": {},
   "outputs": [],
   "source": [
    "score = score.withColumnRenamed('card_id','cardid')"
   ]
  },
  {
   "cell_type": "code",
   "execution_count": 39,
   "metadata": {},
   "outputs": [
    {
     "name": "stdout",
     "output_type": "stream",
     "text": [
      "+---------------+-----+----------------+\n",
      "|         mem_id|score|          cardid|\n",
      "+---------------+-----+----------------+\n",
      "|000037495066290|  339| 348702330256514|\n",
      "|000117826301530|  289|5189563368503974|\n",
      "|001147922084344|  393|5407073344486464|\n",
      "|001314074991813|  225| 378303738095292|\n",
      "|001739553947511|  642| 348413196172048|\n",
      "|003761426295463|  413| 348536585266345|\n",
      "|004494068832701|  217|5515987071565183|\n",
      "|006836124210484|  504|5400251558458125|\n",
      "|006991872634058|  697|4573337022888445|\n",
      "|007955566230397|  372|4708912758619517|\n",
      "|008732267588672|  213|5342400571435088|\n",
      "|008765307152821|  399|4237648081700588|\n",
      "|009136568025042|  308| 371814781663843|\n",
      "|009190444424572|  559| 341363858179050|\n",
      "|009250698176266|  233| 340028465709212|\n",
      "|009873334520465|  298|5495445301620991|\n",
      "|011716573646690|  249|4795844193055110|\n",
      "|011877954983420|  497|5164771396791995|\n",
      "|012390918683920|  407|5423921058459194|\n",
      "|012731668664932|  612|5379610024035907|\n",
      "+---------------+-----+----------------+\n",
      "only showing top 20 rows\n",
      "\n"
     ]
    }
   ],
   "source": [
    "score.show()"
   ]
  },
  {
   "cell_type": "code",
   "execution_count": 40,
   "metadata": {},
   "outputs": [],
   "source": [
    "hist = trans_df.join(score, trans_df.member_id == score.mem_id,how='outer') #outer join on member_id between score and transactions table"
   ]
  },
  {
   "cell_type": "code",
   "execution_count": 41,
   "metadata": {},
   "outputs": [
    {
     "data": {
      "text/plain": [
       "53210"
      ]
     },
     "execution_count": 41,
     "metadata": {},
     "output_type": "execute_result"
    }
   ],
   "source": [
    "hist.count() #53210"
   ]
  },
  {
   "cell_type": "code",
   "execution_count": 42,
   "metadata": {},
   "outputs": [
    {
     "name": "stdout",
     "output_type": "stream",
     "text": [
      "root\n",
      " |-- card_id: string (nullable = true)\n",
      " |-- member_id: string (nullable = true)\n",
      " |-- amount: integer (nullable = true)\n",
      " |-- postcode: string (nullable = true)\n",
      " |-- pos_id: string (nullable = true)\n",
      " |-- transaction_dt: string (nullable = true)\n",
      " |-- status: string (nullable = true)\n",
      " |-- mem_id: string (nullable = true)\n",
      " |-- score: integer (nullable = true)\n",
      " |-- cardid: string (nullable = true)\n",
      "\n"
     ]
    }
   ],
   "source": [
    "hist.printSchema()"
   ]
  },
  {
   "cell_type": "code",
   "execution_count": 43,
   "metadata": {},
   "outputs": [],
   "source": [
    "hist = hist.select('card_id', 'amount', 'postcode', 'pos_id','transaction_dt','status','score')"
   ]
  },
  {
   "cell_type": "code",
   "execution_count": 44,
   "metadata": {},
   "outputs": [
    {
     "name": "stdout",
     "output_type": "stream",
     "text": [
      "+---------------+-------+--------+---------------+-------------------+-------+-----+\n",
      "|        card_id| amount|postcode|         pos_id|     transaction_dt| status|score|\n",
      "+---------------+-------+--------+---------------+-------------------+-------+-----+\n",
      "|340379737226464|6126197|   46933|167473544283898|01-05-2016 08:10:50|GENUINE|  229|\n",
      "|340379737226464|7949232|   61840|664980919335952|01-10-2016 10:38:52|GENUINE|  229|\n",
      "|340379737226464| 943839|   91743|633038040069180|02-08-2016 00:31:25|GENUINE|  229|\n",
      "|340379737226464|3764114|   91743|633038040069180|02-08-2016 21:35:27|GENUINE|  229|\n",
      "|340379737226464|6221251|   98384|064948657945290|02-10-2016 14:44:14|GENUINE|  229|\n",
      "|340379737226464|2868312|   26032|856772774421259|02-12-2016 21:55:43|GENUINE|  229|\n",
      "|340379737226464|4418586|   20129|390339673634463|02-12-2017 17:05:51|GENUINE|  229|\n",
      "|340379737226464|7439113|   91763|315067016872305|03-04-2017 11:43:59|GENUINE|  229|\n",
      "|340379737226464|8217180|   16063|208378790148728|03-05-2017 16:47:43|GENUINE|  229|\n",
      "|340379737226464|8505852|   64070|695556848392133|03-06-2017 03:07:27|GENUINE|  229|\n",
      "|340379737226464|8535431|   29817|683602833507395|04-08-2016 20:59:31|GENUINE|  229|\n",
      "|340379737226464|6317993|   28425|258522244165233|05-05-2017 00:23:45|GENUINE|  229|\n",
      "|340379737226464|3256860|   16845|933410474855991|05-10-2017 15:09:09|GENUINE|  229|\n",
      "|340379737226464|1423779|   97640|789378980336517|06-02-2017 02:10:00|GENUINE|  229|\n",
      "|340379737226464|3783517|   70552|963177679534627|06-12-2016 03:10:30|GENUINE|  229|\n",
      "|340379737226464|3300714|   75750|072728631441941|07-01-2017 05:52:58|GENUINE|  229|\n",
      "|340379737226464|5706163|   50455|915439934619047|07-01-2018 22:07:07|GENUINE|  229|\n",
      "|340379737226464|7445128|   50455|915439934619047|07-01-2018 23:52:27|GENUINE|  229|\n",
      "|340379737226464| 140120|   18915|691571327905821|07-02-2017 20:18:04|GENUINE|  229|\n",
      "|340379737226464|7720484|   48423|548702836055067|07-03-2016 14:59:35|GENUINE|  229|\n",
      "+---------------+-------+--------+---------------+-------------------+-------+-----+\n",
      "only showing top 20 rows\n",
      "\n"
     ]
    }
   ],
   "source": [
    "hist.show()"
   ]
  },
  {
   "cell_type": "code",
   "execution_count": 45,
   "metadata": {},
   "outputs": [],
   "source": [
    "timeform = 'dd-MM-yyyy HH:mm:ss'\n",
    "history = hist.withColumn('transaction_date',f.unix_timestamp(hist['transaction_dt'],timeform).cast('timestamp'))"
   ]
  },
  {
   "cell_type": "code",
   "execution_count": 46,
   "metadata": {},
   "outputs": [
    {
     "name": "stdout",
     "output_type": "stream",
     "text": [
      "+---------------+-------+--------+---------------+-------------------+-------+-----+-------------------+\n",
      "|        card_id| amount|postcode|         pos_id|     transaction_dt| status|score|   transaction_date|\n",
      "+---------------+-------+--------+---------------+-------------------+-------+-----+-------------------+\n",
      "|340379737226464|6126197|   46933|167473544283898|01-05-2016 08:10:50|GENUINE|  229|2016-05-01 08:10:50|\n",
      "|340379737226464|7949232|   61840|664980919335952|01-10-2016 10:38:52|GENUINE|  229|2016-10-01 10:38:52|\n",
      "|340379737226464| 943839|   91743|633038040069180|02-08-2016 00:31:25|GENUINE|  229|2016-08-02 00:31:25|\n",
      "|340379737226464|3764114|   91743|633038040069180|02-08-2016 21:35:27|GENUINE|  229|2016-08-02 21:35:27|\n",
      "|340379737226464|6221251|   98384|064948657945290|02-10-2016 14:44:14|GENUINE|  229|2016-10-02 14:44:14|\n",
      "|340379737226464|2868312|   26032|856772774421259|02-12-2016 21:55:43|GENUINE|  229|2016-12-02 21:55:43|\n",
      "|340379737226464|4418586|   20129|390339673634463|02-12-2017 17:05:51|GENUINE|  229|2017-12-02 17:05:51|\n",
      "|340379737226464|7439113|   91763|315067016872305|03-04-2017 11:43:59|GENUINE|  229|2017-04-03 11:43:59|\n",
      "|340379737226464|8217180|   16063|208378790148728|03-05-2017 16:47:43|GENUINE|  229|2017-05-03 16:47:43|\n",
      "|340379737226464|8505852|   64070|695556848392133|03-06-2017 03:07:27|GENUINE|  229|2017-06-03 03:07:27|\n",
      "|340379737226464|8535431|   29817|683602833507395|04-08-2016 20:59:31|GENUINE|  229|2016-08-04 20:59:31|\n",
      "|340379737226464|6317993|   28425|258522244165233|05-05-2017 00:23:45|GENUINE|  229|2017-05-05 00:23:45|\n",
      "|340379737226464|3256860|   16845|933410474855991|05-10-2017 15:09:09|GENUINE|  229|2017-10-05 15:09:09|\n",
      "|340379737226464|1423779|   97640|789378980336517|06-02-2017 02:10:00|GENUINE|  229|2017-02-06 02:10:00|\n",
      "|340379737226464|3783517|   70552|963177679534627|06-12-2016 03:10:30|GENUINE|  229|2016-12-06 03:10:30|\n",
      "|340379737226464|3300714|   75750|072728631441941|07-01-2017 05:52:58|GENUINE|  229|2017-01-07 05:52:58|\n",
      "|340379737226464|5706163|   50455|915439934619047|07-01-2018 22:07:07|GENUINE|  229|2018-01-07 22:07:07|\n",
      "|340379737226464|7445128|   50455|915439934619047|07-01-2018 23:52:27|GENUINE|  229|2018-01-07 23:52:27|\n",
      "|340379737226464| 140120|   18915|691571327905821|07-02-2017 20:18:04|GENUINE|  229|2017-02-07 20:18:04|\n",
      "|340379737226464|7720484|   48423|548702836055067|07-03-2016 14:59:35|GENUINE|  229|2016-03-07 14:59:35|\n",
      "+---------------+-------+--------+---------------+-------------------+-------+-----+-------------------+\n",
      "only showing top 20 rows\n",
      "\n"
     ]
    }
   ],
   "source": [
    "history.show()"
   ]
  },
  {
   "cell_type": "code",
   "execution_count": 47,
   "metadata": {},
   "outputs": [],
   "source": [
    "history = history.drop('transaction_dt')"
   ]
  },
  {
   "cell_type": "code",
   "execution_count": 48,
   "metadata": {},
   "outputs": [
    {
     "name": "stdout",
     "output_type": "stream",
     "text": [
      "+---------------+-------+--------+---------------+-------+-----+-------------------+\n",
      "|        card_id| amount|postcode|         pos_id| status|score|   transaction_date|\n",
      "+---------------+-------+--------+---------------+-------+-----+-------------------+\n",
      "|340379737226464|6126197|   46933|167473544283898|GENUINE|  229|2016-05-01 08:10:50|\n",
      "|340379737226464|7949232|   61840|664980919335952|GENUINE|  229|2016-10-01 10:38:52|\n",
      "|340379737226464| 943839|   91743|633038040069180|GENUINE|  229|2016-08-02 00:31:25|\n",
      "|340379737226464|3764114|   91743|633038040069180|GENUINE|  229|2016-08-02 21:35:27|\n",
      "|340379737226464|6221251|   98384|064948657945290|GENUINE|  229|2016-10-02 14:44:14|\n",
      "|340379737226464|2868312|   26032|856772774421259|GENUINE|  229|2016-12-02 21:55:43|\n",
      "|340379737226464|4418586|   20129|390339673634463|GENUINE|  229|2017-12-02 17:05:51|\n",
      "|340379737226464|7439113|   91763|315067016872305|GENUINE|  229|2017-04-03 11:43:59|\n",
      "|340379737226464|8217180|   16063|208378790148728|GENUINE|  229|2017-05-03 16:47:43|\n",
      "|340379737226464|8505852|   64070|695556848392133|GENUINE|  229|2017-06-03 03:07:27|\n",
      "|340379737226464|8535431|   29817|683602833507395|GENUINE|  229|2016-08-04 20:59:31|\n",
      "|340379737226464|6317993|   28425|258522244165233|GENUINE|  229|2017-05-05 00:23:45|\n",
      "|340379737226464|3256860|   16845|933410474855991|GENUINE|  229|2017-10-05 15:09:09|\n",
      "|340379737226464|1423779|   97640|789378980336517|GENUINE|  229|2017-02-06 02:10:00|\n",
      "|340379737226464|3783517|   70552|963177679534627|GENUINE|  229|2016-12-06 03:10:30|\n",
      "|340379737226464|3300714|   75750|072728631441941|GENUINE|  229|2017-01-07 05:52:58|\n",
      "|340379737226464|5706163|   50455|915439934619047|GENUINE|  229|2018-01-07 22:07:07|\n",
      "|340379737226464|7445128|   50455|915439934619047|GENUINE|  229|2018-01-07 23:52:27|\n",
      "|340379737226464| 140120|   18915|691571327905821|GENUINE|  229|2017-02-07 20:18:04|\n",
      "|340379737226464|7720484|   48423|548702836055067|GENUINE|  229|2016-03-07 14:59:35|\n",
      "+---------------+-------+--------+---------------+-------+-----+-------------------+\n",
      "only showing top 20 rows\n",
      "\n"
     ]
    }
   ],
   "source": [
    "history.show()"
   ]
  },
  {
   "cell_type": "markdown",
   "metadata": {},
   "source": [
    "### Collecting Transaction Date & Post Code of Last Transaction"
   ]
  },
  {
   "cell_type": "markdown",
   "metadata": {},
   "source": [
    "* logic for lookup table\n",
    "* calculate max transaction_date grouped by card id\n"
   ]
  },
  {
   "cell_type": "code",
   "execution_count": 49,
   "metadata": {},
   "outputs": [],
   "source": [
    "lookup_table = history.groupBy('card_id').agg(f.max(\"transaction_date\").alias('transaction_date'))"
   ]
  },
  {
   "cell_type": "code",
   "execution_count": 50,
   "metadata": {},
   "outputs": [
    {
     "name": "stdout",
     "output_type": "stream",
     "text": [
      "+----------------+-------------------+\n",
      "|         card_id|   transaction_date|\n",
      "+----------------+-------------------+\n",
      "| 340379737226464|2018-01-27 00:19:47|\n",
      "| 377201318164757|2017-11-28 16:32:22|\n",
      "| 348962542187595|2018-01-29 17:17:14|\n",
      "|4389973676463558|2018-01-26 13:47:46|\n",
      "|5403923427969691|2018-01-22 23:46:19|\n",
      "| 345406224887566|2017-12-25 04:03:58|\n",
      "|6562510549485881|2018-01-17 08:35:27|\n",
      "|5508842242491554|2018-01-31 14:55:58|\n",
      "|4407230633003235|2018-01-27 07:21:08|\n",
      "| 379321864695232|2018-01-03 00:29:37|\n",
      "| 340028465709212|2018-01-02 03:25:35|\n",
      "| 349143706735646|2018-01-29 22:33:14|\n",
      "|4126356979547079|2018-01-24 16:09:03|\n",
      "|5543219113990484|2018-01-13 18:34:00|\n",
      "|5464688416792307|2018-01-26 19:03:47|\n",
      "|6011273561157733|2018-02-01 01:27:58|\n",
      "|4484950467600170|2018-01-10 08:03:13|\n",
      "|4818950814628962|2018-01-31 00:53:15|\n",
      "|5573293264792992|2018-01-31 14:55:57|\n",
      "|6011985140563103|2018-01-30 02:03:54|\n",
      "+----------------+-------------------+\n",
      "only showing top 20 rows\n",
      "\n"
     ]
    }
   ],
   "source": [
    "lookup_table.show() #card_id and transaction_date"
   ]
  },
  {
   "cell_type": "code",
   "execution_count": 51,
   "metadata": {},
   "outputs": [
    {
     "data": {
      "text/plain": [
       "999"
      ]
     },
     "execution_count": 51,
     "metadata": {},
     "output_type": "execute_result"
    }
   ],
   "source": [
    "lookup_table.count()  #999"
   ]
  },
  {
   "cell_type": "code",
   "execution_count": 52,
   "metadata": {},
   "outputs": [
    {
     "name": "stdout",
     "output_type": "stream",
     "text": [
      "+---------------+-----+----------------+\n",
      "|         mem_id|score|          cardid|\n",
      "+---------------+-----+----------------+\n",
      "|000037495066290|  339| 348702330256514|\n",
      "|000117826301530|  289|5189563368503974|\n",
      "|001147922084344|  393|5407073344486464|\n",
      "|001314074991813|  225| 378303738095292|\n",
      "|001739553947511|  642| 348413196172048|\n",
      "|003761426295463|  413| 348536585266345|\n",
      "|004494068832701|  217|5515987071565183|\n",
      "|006836124210484|  504|5400251558458125|\n",
      "|006991872634058|  697|4573337022888445|\n",
      "|007955566230397|  372|4708912758619517|\n",
      "|008732267588672|  213|5342400571435088|\n",
      "|008765307152821|  399|4237648081700588|\n",
      "|009136568025042|  308| 371814781663843|\n",
      "|009190444424572|  559| 341363858179050|\n",
      "|009250698176266|  233| 340028465709212|\n",
      "|009873334520465|  298|5495445301620991|\n",
      "|011716573646690|  249|4795844193055110|\n",
      "|011877954983420|  497|5164771396791995|\n",
      "|012390918683920|  407|5423921058459194|\n",
      "|012731668664932|  612|5379610024035907|\n",
      "+---------------+-----+----------------+\n",
      "only showing top 20 rows\n",
      "\n"
     ]
    }
   ],
   "source": [
    "score.show()"
   ]
  },
  {
   "cell_type": "markdown",
   "metadata": {},
   "source": [
    "* joining score with lookup_table using Card id "
   ]
  },
  {
   "cell_type": "code",
   "execution_count": 53,
   "metadata": {},
   "outputs": [],
   "source": [
    "lookup_table = lookup_table.join(score, lookup_table.card_id == score.cardid,how='INNER')"
   ]
  },
  {
   "cell_type": "code",
   "execution_count": 54,
   "metadata": {},
   "outputs": [
    {
     "data": {
      "text/plain": [
       "999"
      ]
     },
     "execution_count": 54,
     "metadata": {},
     "output_type": "execute_result"
    }
   ],
   "source": [
    "lookup_table.count()  #check the count (999)"
   ]
  },
  {
   "cell_type": "code",
   "execution_count": 55,
   "metadata": {},
   "outputs": [
    {
     "name": "stdout",
     "output_type": "stream",
     "text": [
      "+----------------+-------------------+---------------+-----+----------------+\n",
      "|         card_id|   transaction_date|         mem_id|score|          cardid|\n",
      "+----------------+-------------------+---------------+-----+----------------+\n",
      "| 340379737226464|2018-01-27 00:19:47|089615510858348|  229| 340379737226464|\n",
      "| 345406224887566|2017-12-25 04:03:58|296206661780881|  349| 345406224887566|\n",
      "| 348962542187595|2018-01-29 17:17:14|366246487993992|  522| 348962542187595|\n",
      "| 377201318164757|2017-11-28 16:32:22|924475891017022|  432| 377201318164757|\n",
      "| 379321864695232|2018-01-03 00:29:37|082567374418739|  297| 379321864695232|\n",
      "|4389973676463558|2018-01-26 13:47:46|295554828848966|  400|4389973676463558|\n",
      "|4407230633003235|2018-01-27 07:21:08|761335698364860|  567|4407230633003235|\n",
      "|5403923427969691|2018-01-22 23:46:19|922077754605834|  324|5403923427969691|\n",
      "|5508842242491554|2018-01-31 14:55:58|634200295989311|  585|5508842242491554|\n",
      "|6562510549485881|2018-01-17 08:35:27|659982919406634|  518|6562510549485881|\n",
      "| 340028465709212|2018-01-02 03:25:35|009250698176266|  233| 340028465709212|\n",
      "| 349143706735646|2018-01-29 22:33:14|343824445342591|  298| 349143706735646|\n",
      "|4126356979547079|2018-01-24 16:09:03|015582765997171|  345|4126356979547079|\n",
      "|4484950467600170|2018-01-10 08:03:13|570539968421790|  462|4484950467600170|\n",
      "|4818950814628962|2018-01-31 00:53:15|819006616594636|  660|4818950814628962|\n",
      "|5464688416792307|2018-01-26 19:03:47|434792568351651|  469|5464688416792307|\n",
      "|5543219113990484|2018-01-13 18:34:00|501241235491851|  494|5543219113990484|\n",
      "|5573293264792992|2018-01-31 14:55:57|350307876868039|  284|5573293264792992|\n",
      "|6011273561157733|2018-02-01 01:27:58|314862932674883|  411|6011273561157733|\n",
      "|6011985140563103|2018-01-30 02:03:54|393165367933607|  350|6011985140563103|\n",
      "+----------------+-------------------+---------------+-----+----------------+\n",
      "only showing top 20 rows\n",
      "\n"
     ]
    }
   ],
   "source": [
    "lookup_table.show()"
   ]
  },
  {
   "cell_type": "code",
   "execution_count": 56,
   "metadata": {},
   "outputs": [],
   "source": [
    "lookup_table = lookup_table.select('card_id','transaction_date')"
   ]
  },
  {
   "cell_type": "code",
   "execution_count": 57,
   "metadata": {},
   "outputs": [
    {
     "name": "stdout",
     "output_type": "stream",
     "text": [
      "+----------------+-------------------+\n",
      "|         card_id|   transaction_date|\n",
      "+----------------+-------------------+\n",
      "| 340379737226464|2018-01-27 00:19:47|\n",
      "| 345406224887566|2017-12-25 04:03:58|\n",
      "| 348962542187595|2018-01-29 17:17:14|\n",
      "| 377201318164757|2017-11-28 16:32:22|\n",
      "| 379321864695232|2018-01-03 00:29:37|\n",
      "|4389973676463558|2018-01-26 13:47:46|\n",
      "|4407230633003235|2018-01-27 07:21:08|\n",
      "|5403923427969691|2018-01-22 23:46:19|\n",
      "|5508842242491554|2018-01-31 14:55:58|\n",
      "|6562510549485881|2018-01-17 08:35:27|\n",
      "| 340028465709212|2018-01-02 03:25:35|\n",
      "| 349143706735646|2018-01-29 22:33:14|\n",
      "|4126356979547079|2018-01-24 16:09:03|\n",
      "|4484950467600170|2018-01-10 08:03:13|\n",
      "|4818950814628962|2018-01-31 00:53:15|\n",
      "|5464688416792307|2018-01-26 19:03:47|\n",
      "|5543219113990484|2018-01-13 18:34:00|\n",
      "|5573293264792992|2018-01-31 14:55:57|\n",
      "|6011273561157733|2018-02-01 01:27:58|\n",
      "|6011985140563103|2018-01-30 02:03:54|\n",
      "+----------------+-------------------+\n",
      "only showing top 20 rows\n",
      "\n"
     ]
    }
   ],
   "source": [
    "lookup_table.show()"
   ]
  },
  {
   "cell_type": "code",
   "execution_count": 58,
   "metadata": {},
   "outputs": [
    {
     "data": {
      "text/plain": [
       "1476"
      ]
     },
     "execution_count": 58,
     "metadata": {},
     "output_type": "execute_result"
    }
   ],
   "source": [
    " #To arrive at derived columns like latest_transaction date, group the combined dataframe \n",
    "#on card_id such that all transactions on same card id collate and get max(transaction \n",
    "#date).\n",
    "lookup_table = lookup_table.join(history,on=['card_id','transaction_date'],how='left')  #1476\n",
    "lookup_table.count() #1476"
   ]
  },
  {
   "cell_type": "code",
   "execution_count": 59,
   "metadata": {},
   "outputs": [
    {
     "name": "stdout",
     "output_type": "stream",
     "text": [
      "+----------------+-------------------+-------+--------+---------------+-------+-----+\n",
      "|         card_id|   transaction_date| amount|postcode|         pos_id| status|score|\n",
      "+----------------+-------------------+-------+--------+---------------+-------+-----+\n",
      "| 378586484293754|2017-12-24 05:14:37|3859271|   24363|753115024049849|GENUINE|  337|\n",
      "|4356201405998945|2018-01-24 14:23:42|4553231|   43791|339439168301190|GENUINE|  600|\n",
      "|4418227862530505|2018-01-25 16:43:45|4085014|   14544|028630406062180|GENUINE|  318|\n",
      "|5400249950855567|2018-01-28 06:10:31|1062269|   24966|757227694469394|GENUINE|  523|\n",
      "| 373748808330229|2018-01-29 13:46:32|2446006|   25260|459926365561014|GENUINE|  685|\n",
      "|4353614029446427|2018-01-10 23:51:13|2713094|   15311|791335648163958|GENUINE|  219|\n",
      "|4598225659063187|2018-01-25 21:59:45| 421272|   50531|657401894365206|GENUINE|  355|\n",
      "|4689314809377828|2018-01-25 21:59:45|1151530|   29550|365821079545471|GENUINE|  632|\n",
      "|5447036761675606|2017-11-16 23:38:38| 566003|   32970|900066068310939|GENUINE|  690|\n",
      "|5508842242491554|2018-01-31 14:55:58|2710473|   12986|990193545769550|GENUINE|  585|\n",
      "|5572427538311236|2018-01-31 20:11:58|2479113|   91040|341079781603709|GENUINE|  303|\n",
      "|6011654527329500|2018-01-31 00:53:16|9773537|   58634|018255965744212|GENUINE|  683|\n",
      "| 347893423075811|2018-01-24 02:06:21|2927191|   15532|320818315059172|GENUINE|  429|\n",
      "| 371085417506954|2018-01-28 14:57:11| 741464|   19468|551815269280261|GENUINE|  599|\n",
      "|5316831626197194|2018-01-29 13:46:32|6716709|   40488|704363694703346|GENUINE|  227|\n",
      "|6011027251671860|2018-01-28 11:26:31| 810486|   43437|617450656798765|GENUINE|  351|\n",
      "|6011759165664934|2018-01-13 06:16:39|9451754|   56734|598314604248219|GENUINE|  391|\n",
      "| 343478616471867|2018-01-29 10:15:53| 653774|   10520|639280245606744|GENUINE|  302|\n",
      "| 346001716915984|2017-11-26 10:06:57|3248384|   61740|525809580544230|GENUINE|  364|\n",
      "| 347697256845386|2018-01-24 02:06:21|5808752|   15376|887377265331304|GENUINE|  338|\n",
      "+----------------+-------------------+-------+--------+---------------+-------+-----+\n",
      "only showing top 20 rows\n",
      "\n"
     ]
    }
   ],
   "source": [
    "\n",
    "lookup_table.show()  "
   ]
  },
  {
   "cell_type": "markdown",
   "metadata": {},
   "source": [
    "## Calculating UCL"
   ]
  },
  {
   "cell_type": "markdown",
   "metadata": {},
   "source": [
    "* Calculate the moving average and standard deviation of the last 10 transactions for each card_id for the data present in Hadoop and NoSQL database\n",
    "* With the fresh dataframe, use member ID once again as common key and join with card_transaction.csv to load postcode, pos_id, status, amount & transaction date fields from history transactions\n",
    "* open a window frame where we group input dataframe rows on card_id and order by transaction date to get all transactions on card in chronological order\n"
   ]
  },
  {
   "cell_type": "code",
   "execution_count": 60,
   "metadata": {},
   "outputs": [],
   "source": [
    "window = Window.partitionBy(history['card_id']).orderBy(history['transaction_date'].desc())\n",
    "\n",
    "history_df = history.select('*', f.rank().over(window).alias('rank')).filter(f.col('rank') <= 10)"
   ]
  },
  {
   "cell_type": "code",
   "execution_count": 61,
   "metadata": {},
   "outputs": [
    {
     "name": "stdout",
     "output_type": "stream",
     "text": [
      "+---------------+-------+--------+---------------+-------+-----+-------------------+----+\n",
      "|        card_id| amount|postcode|         pos_id| status|score|   transaction_date|rank|\n",
      "+---------------+-------+--------+---------------+-------+-----+-------------------+----+\n",
      "|340379737226464|1784098|   26656|000383013889790|GENUINE|  229|2018-01-27 00:19:47|   1|\n",
      "|340379737226464|3759577|   61334|016312401940277|GENUINE|  229|2018-01-18 14:26:09|   2|\n",
      "|340379737226464|4080612|   51338|562082278231631|GENUINE|  229|2018-01-14 20:54:02|   3|\n",
      "|340379737226464|4242710|   96105|285501971776349|GENUINE|  229|2018-01-11 19:09:55|   4|\n",
      "|340379737226464|9061517|   40932|232455833079472|GENUINE|  229|2018-01-10 20:20:33|   5|\n",
      "|340379737226464| 102248|   40932|232455833079472|GENUINE|  229|2018-01-10 15:04:33|   6|\n",
      "|340379737226464|7445128|   50455|915439934619047|GENUINE|  229|2018-01-07 23:52:27|   7|\n",
      "|340379737226464|5706163|   50455|915439934619047|GENUINE|  229|2018-01-07 22:07:07|   8|\n",
      "|340379737226464|8090127|   18626|359283931604637|GENUINE|  229|2017-12-29 13:24:07|   9|\n",
      "|340379737226464|9282351|   41859|808326141065551|GENUINE|  229|2017-12-28 19:50:46|  10|\n",
      "|345406224887566|1135534|   53034|146838238062262|GENUINE|  349|2017-12-25 04:03:58|   1|\n",
      "|345406224887566|5190295|   88036|821406924682103|GENUINE|  349|2017-12-20 04:41:07|   2|\n",
      "|345406224887566|5970187|   28334|024341862357645|GENUINE|  349|2017-11-30 05:24:25|   3|\n",
      "|345406224887566|3854486|   48880|172521878612232|GENUINE|  349|2017-09-21 00:01:58|   4|\n",
      "|345406224887566|1242240|   14510|536497882467098|GENUINE|  349|2017-06-11 16:31:45|   5|\n",
      "|345406224887566|9222549|   68358|875905403447795|GENUINE|  349|2017-06-10 21:13:03|   6|\n",
      "|345406224887566|8726784|   64487|617331009748827|GENUINE|  349|2017-03-16 03:04:40|   7|\n",
      "|345406224887566|2415599|   99137|751829480922658|GENUINE|  349|2017-03-08 12:29:44|   8|\n",
      "|345406224887566|9671941|   65614|607206139883123|GENUINE|  349|2017-01-21 08:42:47|   9|\n",
      "|345406224887566|7454950|   18249|368724323320131|GENUINE|  349|2016-12-30 04:46:01|  10|\n",
      "+---------------+-------+--------+---------------+-------+-----+-------------------+----+\n",
      "only showing top 20 rows\n",
      "\n"
     ]
    }
   ],
   "source": [
    "history_df.show()"
   ]
  },
  {
   "cell_type": "code",
   "execution_count": 62,
   "metadata": {},
   "outputs": [
    {
     "name": "stdout",
     "output_type": "stream",
     "text": [
      "+----------------+----------+----------+\n",
      "|         card_id|moving_avg|   Std_Dev|\n",
      "+----------------+----------+----------+\n",
      "| 340379737226464| 5355453.1|3107063.55|\n",
      "| 345406224887566| 5488456.5|3252527.52|\n",
      "| 348962542187595| 5735629.0|3089916.54|\n",
      "| 377201318164757| 5742377.7|2768545.84|\n",
      "| 379321864695232| 4713319.1|3203114.94|\n",
      "|4389973676463558| 4923904.7| 2306771.9|\n",
      "|4407230633003235| 4348891.3|3274883.95|\n",
      "|5403923427969691| 5375495.6|2913510.72|\n",
      "|5508842242491554| 4570725.9|3229905.04|\n",
      "|6562510549485881| 5551056.9|2501552.48|\n",
      "| 340028465709212| 6863758.9|3326644.65|\n",
      "| 349143706735646| 5453372.9|3424332.26|\n",
      "|4126356979547079| 4286400.2|2909676.26|\n",
      "|4484950467600170| 4550480.5|3171538.48|\n",
      "|4818950814628962| 2210428.9| 958307.87|\n",
      "|5464688416792307| 4985938.2|2379084.95|\n",
      "|5543219113990484| 4033586.9|2969107.42|\n",
      "|5573293264792992| 3929994.0|2589503.93|\n",
      "|6011273561157733| 4634624.8|2801886.17|\n",
      "|6011985140563103| 5302878.9| 3088988.7|\n",
      "+----------------+----------+----------+\n",
      "only showing top 20 rows\n",
      "\n"
     ]
    }
   ],
   "source": [
    "history_df = history_df.groupBy(\"card_id\").agg(f.round(f.avg('amount'),2).alias('moving_avg'), \\\n",
    "                                                                      f.round(f.stddev('amount'),2).alias('Std_Dev'))\n",
    "history_df.show()"
   ]
  },
  {
   "cell_type": "code",
   "execution_count": 63,
   "metadata": {},
   "outputs": [
    {
     "name": "stdout",
     "output_type": "stream",
     "text": [
      "+----------------+----------+----------+--------------------+\n",
      "|         card_id|moving_avg|   Std_Dev|                 UCL|\n",
      "+----------------+----------+----------+--------------------+\n",
      "| 340379737226464| 5355453.1|3107063.55|1.4676643749999998E7|\n",
      "| 345406224887566| 5488456.5|3252527.52|       1.524603906E7|\n",
      "| 348962542187595| 5735629.0|3089916.54|1.5005378620000001E7|\n",
      "| 377201318164757| 5742377.7|2768545.84|1.4048015219999999E7|\n",
      "| 379321864695232| 4713319.1|3203114.94|       1.432266392E7|\n",
      "|4389973676463558| 4923904.7| 2306771.9|1.1844220399999999E7|\n",
      "|4407230633003235| 4348891.3|3274883.95|1.4173543150000002E7|\n",
      "|5403923427969691| 5375495.6|2913510.72|       1.411602776E7|\n",
      "|5508842242491554| 4570725.9|3229905.04|1.4260441020000001E7|\n",
      "|6562510549485881| 5551056.9|2501552.48|       1.305571434E7|\n",
      "| 340028465709212| 6863758.9|3326644.65|       1.684369285E7|\n",
      "| 349143706735646| 5453372.9|3424332.26|       1.572636968E7|\n",
      "|4126356979547079| 4286400.2|2909676.26|       1.301542898E7|\n",
      "|4484950467600170| 4550480.5|3171538.48|       1.406509594E7|\n",
      "|4818950814628962| 2210428.9| 958307.87|          5085352.51|\n",
      "|5464688416792307| 4985938.2|2379084.95|       1.212319305E7|\n",
      "|5543219113990484| 4033586.9|2969107.42|       1.294090916E7|\n",
      "|5573293264792992| 3929994.0|2589503.93|1.1698505790000001E7|\n",
      "|6011273561157733| 4634624.8|2801886.17|1.3040283309999999E7|\n",
      "|6011985140563103| 5302878.9| 3088988.7|1.4569845000000002E7|\n",
      "+----------------+----------+----------+--------------------+\n",
      "only showing top 20 rows\n",
      "\n"
     ]
    }
   ],
   "source": [
    "history_df = history_df.withColumn('UCL',history_df.moving_avg+3*(history_df.Std_Dev))\n",
    "history_df.show()"
   ]
  },
  {
   "cell_type": "code",
   "execution_count": 64,
   "metadata": {},
   "outputs": [],
   "source": [
    "history_df = history_df.select('card_id','UCL')"
   ]
  },
  {
   "cell_type": "code",
   "execution_count": 65,
   "metadata": {},
   "outputs": [],
   "source": [
    "lookup_table = lookup_table.join(history_df,on=['card_id'])"
   ]
  },
  {
   "cell_type": "code",
   "execution_count": 66,
   "metadata": {},
   "outputs": [
    {
     "name": "stdout",
     "output_type": "stream",
     "text": [
      "+----------------+-------------------+-------+--------+---------------+-------+-----+--------------------+\n",
      "|         card_id|   transaction_date| amount|postcode|         pos_id| status|score|                 UCL|\n",
      "+----------------+-------------------+-------+--------+---------------+-------+-----+--------------------+\n",
      "| 340379737226464|2018-01-27 00:19:47|1784098|   26656|000383013889790|GENUINE|  229|1.4676643749999998E7|\n",
      "| 345406224887566|2017-12-25 04:03:58|1135534|   53034|146838238062262|GENUINE|  349|       1.524603906E7|\n",
      "| 348962542187595|2018-01-29 17:17:14|7408949|   27830|453850044027107|GENUINE|  522|1.5005378620000001E7|\n",
      "| 377201318164757|2017-11-28 16:32:22|4799826|   84302|287431794718846|GENUINE|  432|1.4048015219999999E7|\n",
      "| 379321864695232|2018-01-03 00:29:37|5702120|   98837|638380208258390|GENUINE|  297|       1.432266392E7|\n",
      "|4389973676463558|2018-01-26 13:47:46|7196505|   10985|588476547410852|GENUINE|  400|1.1844220399999999E7|\n",
      "|4407230633003235|2018-01-27 07:21:08|  38579|   50167|697070998627535|GENUINE|  567|1.4173543150000002E7|\n",
      "|5403923427969691|2018-01-22 23:46:19|1576154|   17350|734614251977032|GENUINE|  324|       1.411602776E7|\n",
      "|5508842242491554|2018-01-31 14:55:58|2710473|   12986|990193545769550|GENUINE|  585|1.4260441020000001E7|\n",
      "|6562510549485881|2018-01-17 08:35:27|5939348|   35440|901627725704672|GENUINE|  518|       1.305571434E7|\n",
      "| 340028465709212|2018-01-02 03:25:35|8696557|   24658|246987608008994|GENUINE|  233|       1.684369285E7|\n",
      "| 349143706735646|2018-01-29 22:33:14|9246599|   99101|743905143665678|GENUINE|  298|       1.572636968E7|\n",
      "|4126356979547079|2018-01-24 16:09:03|1770784|   14475|698032801419746|GENUINE|  345|       1.301542898E7|\n",
      "|4484950467600170|2018-01-10 08:03:13|2284955|   13324|653851258729390|GENUINE|  462|       1.406509594E7|\n",
      "|4818950814628962|2018-01-31 00:53:15|2316346|   88081|127695801600255|GENUINE|  660|          5085352.51|\n",
      "|5464688416792307|2018-01-26 19:03:47|4067979|   71670|111365575664933|GENUINE|  469|       1.212319305E7|\n",
      "|5543219113990484|2018-01-13 18:34:00| 549641|   62273|039213658608911|GENUINE|  494|       1.294090916E7|\n",
      "|5573293264792992|2018-01-31 14:55:57|4827477|   27012|805073498705051|GENUINE|  284|1.1698505790000001E7|\n",
      "|6011273561157733|2018-02-01 01:27:58|5272574|   45305|063916192266113|GENUINE|  411|1.3040283309999999E7|\n",
      "|6011985140563103|2018-01-30 02:03:54|1725430|   36587|914045782120401|GENUINE|  350|1.4569845000000002E7|\n",
      "+----------------+-------------------+-------+--------+---------------+-------+-----+--------------------+\n",
      "only showing top 20 rows\n",
      "\n"
     ]
    }
   ],
   "source": [
    "lookup_table.show()  #Final data set look as below"
   ]
  },
  {
   "cell_type": "code",
   "execution_count": 67,
   "metadata": {},
   "outputs": [],
   "source": [
    "lookup_table = lookup_table.dropDuplicates((['card_id','transaction_date','postcode']))"
   ]
  },
  {
   "cell_type": "code",
   "execution_count": 68,
   "metadata": {},
   "outputs": [
    {
     "data": {
      "text/plain": [
       "1000"
      ]
     },
     "execution_count": 68,
     "metadata": {},
     "output_type": "execute_result"
    }
   ],
   "source": [
    "lookup_table.count()  #1000"
   ]
  },
  {
   "cell_type": "markdown",
   "metadata": {},
   "source": [
    "### Load this dataframe into NoSQL database i.e. Hbase\n",
    "\n",
    "* Create a connection with Hbase\n",
    "* Check if table you want to create already exists and create one if it doesn’t exist\n",
    "* Batch load data from dataframe to table created.\n"
   ]
  },
  {
   "cell_type": "code",
   "execution_count": 73,
   "metadata": {},
   "outputs": [],
   "source": [
    "import happybase\n",
    "#create connection\n",
    "connection = happybase.Connection('localhost', port=9090 ,autoconnect=False)"
   ]
  },
  {
   "cell_type": "code",
   "execution_count": 74,
   "metadata": {},
   "outputs": [],
   "source": [
    "def open_connection():\n",
    "    connection.open()\n",
    "#close the opened connection\n",
    "def close_connection():\n",
    "    connection.close()\n",
    "#list all tables in Hbase\n",
    "def list_tables():\n",
    "    print \"fetching all table\"\n",
    "    open_connection()\n",
    "    tables = connection.tables()\n",
    "    close_connection()\n",
    "    print \"all tables fetched\"\n",
    "    return tables"
   ]
  },
  {
   "cell_type": "code",
   "execution_count": 75,
   "metadata": {},
   "outputs": [],
   "source": [
    "#create the required table \n",
    "def create_table(name,cf):\n",
    "    print \"creating table \" + name\n",
    "    tables = list_tables()\n",
    "    if name not in tables:\n",
    "        open_connection()\n",
    "        connection.create_table(name, cf)\n",
    "        close_connection()\n",
    "        print \"table created\"\n",
    "    else:\n",
    "        print \"table already present\"\n",
    "#get the pointer to a table\n",
    "def get_table(name):\n",
    "    open_connection()\n",
    "    table = connection.table(name)\n",
    "    close_connection()\n",
    "    return table"
   ]
  },
  {
   "cell_type": "code",
   "execution_count": 76,
   "metadata": {},
   "outputs": [
    {
     "name": "stdout",
     "output_type": "stream",
     "text": [
      "creating table lookup_table\n",
      "fetching all table\n",
      "all tables fetched\n",
      "table created\n"
     ]
    }
   ],
   "source": [
    "create_table('lookup_table', {'info' : dict(max_versions=5) })"
   ]
  },
  {
   "cell_type": "code",
   "execution_count": 77,
   "metadata": {},
   "outputs": [],
   "source": [
    "#batch insert data in lookup table\n",
    "def batch_insert_data(df,tableName):\n",
    " print \"starting batch insert of events\"\n",
    " table = get_table(tableName)\n",
    " open_connection()\n",
    " rows_count=0\n",
    "\n",
    "#Creating a rowkey for better data query. RowKey is the cardId .\n",
    " rowKey_dict={}\n",
    " with table.batch(batch_size=4) as b:\n",
    "   for row in df.rdd.collect():\n",
    "    b.put(bytes(row.card_id) , { 'info:card_id':bytes(row.card_id),\n",
    "                        'info:transaction_date':bytes(row.transaction_date),\n",
    "                        'info:score':bytes(row.score),\n",
    "                        'info:postcode':bytes(row.postcode),\n",
    "                        'info:UCL':bytes(row.UCL)})\n",
    "\n",
    " \n",
    "\n",
    " print \"batch insert done\"\n",
    " close_connection()"
   ]
  },
  {
   "cell_type": "code",
   "execution_count": 79,
   "metadata": {},
   "outputs": [
    {
     "name": "stdout",
     "output_type": "stream",
     "text": [
      "starting batch insert of events\n",
      "batch insert done\n"
     ]
    }
   ],
   "source": [
    "batch_insert_data(lookup_table,'lookup_table')"
   ]
  },
  {
   "cell_type": "code",
   "execution_count": 80,
   "metadata": {},
   "outputs": [
    {
     "name": "stdout",
     "output_type": "stream",
     "text": [
      "creating table card_transactions\n",
      "fetching all table\n",
      "all tables fetched\n",
      "table created\n"
     ]
    }
   ],
   "source": [
    "# create table of card_transactions.csv file.\n",
    "create_table('card_transactions', {'info' : dict(max_versions=5) })\n"
   ]
  },
  {
   "cell_type": "code",
   "execution_count": 81,
   "metadata": {},
   "outputs": [],
   "source": [
    "def batch_insert_csvdata(filename,tableName):\n",
    "    print \"starting batch insert of events\"\n",
    "    file = open(filename, \"r\")\n",
    "    table = get_table(tableName)\n",
    "    open_connection()\n",
    "    i=0\n",
    "    \n",
    "    for line in file:\n",
    "        temp = line.strip().split(\",\")\n",
    "        \n",
    "        #Skip the first row\n",
    "        if temp[0]!='card_id':\n",
    "            \n",
    "            table.put(bytes(i) , { 'info:card_id':bytes(temp[0]),\n",
    "                                                'info:member_id':bytes(temp[1]),\n",
    "                                                'info:amount':bytes(temp[2]),\n",
    "                                                'info:postcode':bytes(temp[3]),\n",
    "                                                'info:pos_id':bytes(temp[4]),\n",
    "                                                'info:transaction_dt':bytes(temp[5]),\n",
    "                                                'info:status':bytes(temp[6])})\n",
    "        i=i+1\n",
    "     \n",
    "    \n",
    " \n",
    "    file.close()\n",
    "    print \"batch insert done\"\n",
    "    close_connection()\n"
   ]
  },
  {
   "cell_type": "code",
   "execution_count": 82,
   "metadata": {},
   "outputs": [
    {
     "name": "stdout",
     "output_type": "stream",
     "text": [
      "starting batch insert of events\n",
      "batch insert done\n"
     ]
    }
   ],
   "source": [
    "#Batch insert data of card_transactions.csv file.\n",
    "batch_insert_csvdata('card_transactions.csv','card_transactions')\n",
    "\n"
   ]
  },
  {
   "cell_type": "code",
   "execution_count": null,
   "metadata": {},
   "outputs": [],
   "source": []
  }
 ],
 "metadata": {
  "kernelspec": {
   "display_name": "Python 3",
   "language": "python",
   "name": "python3"
  },
  "language_info": {
   "codemirror_mode": {
    "name": "ipython",
    "version": 3
   },
   "file_extension": ".py",
   "mimetype": "text/x-python",
   "name": "python",
   "nbconvert_exporter": "python",
   "pygments_lexer": "ipython3",
   "version": "3.8.5"
  }
 },
 "nbformat": 4,
 "nbformat_minor": 2
}
